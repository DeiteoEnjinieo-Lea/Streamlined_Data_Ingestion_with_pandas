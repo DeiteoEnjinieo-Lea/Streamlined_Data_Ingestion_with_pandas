{
 "cells": [
  {
   "cell_type": "code",
   "execution_count": 6,
   "metadata": {},
   "outputs": [],
   "source": [
    "## load pandas and sqlalchemy's create_engine = database connection\n",
    "import pandas as pd \n",
    "from sqlalchemy import create_engine"
   ]
  },
  {
   "cell_type": "code",
   "execution_count": 7,
   "metadata": {},
   "outputs": [],
   "source": [
    "# create database engine to manage connections\n",
    "engine = create_engine(\"sqlite:///{src_db}\".format(src_db=db_file)) # the connection to the database and the server "
   ]
  },
  {
   "cell_type": "code",
   "execution_count": 8,
   "metadata": {},
   "outputs": [],
   "source": [
    "# load entire weather table by table name \n",
    "weather = pd.read_sql(\"weather\", engine) # remember the query and the engine"
   ]
  },
  {
   "cell_type": "code",
   "execution_count": 9,
   "metadata": {},
   "outputs": [
    {
     "name": "stdout",
     "output_type": "stream",
     "text": [
      "       station                         name  latitude  longitude  elevation  \\\n",
      "0  USW00094728  NY CITY CENTRAL PARK, NY US  40.77898  -73.96925       42.7   \n",
      "1  USW00094728  NY CITY CENTRAL PARK, NY US  40.77898  -73.96925       42.7   \n",
      "2  USW00094728  NY CITY CENTRAL PARK, NY US  40.77898  -73.96925       42.7   \n",
      "3  USW00094728  NY CITY CENTRAL PARK, NY US  40.77898  -73.96925       42.7   \n",
      "4  USW00094728  NY CITY CENTRAL PARK, NY US  40.77898  -73.96925       42.7   \n",
      "\n",
      "         date     month  awnd  prcp  snow tavg  tmax  tmin  \n",
      "0  12/01/2017  December  5.37  0.00   0.0         52    42  \n",
      "1  12/02/2017  December  3.13  0.00   0.0         48    39  \n",
      "2  12/03/2017  December  2.01  0.00   0.0         48    42  \n",
      "3  12/04/2017  December  3.58  0.00   0.0         51    40  \n",
      "4  12/05/2017  December  6.71  0.75   0.0         61    50  \n"
     ]
    }
   ],
   "source": [
    "print(weather.head())"
   ]
  },
  {
   "cell_type": "code",
   "execution_count": 10,
   "metadata": {},
   "outputs": [
    {
     "name": "stdout",
     "output_type": "stream",
     "text": [
      "['boro_census', 'hpd311calls', 'weather']\n"
     ]
    },
    {
     "name": "stderr",
     "output_type": "stream",
     "text": [
      " See_Warning_SADeprecationWarning: The Engine.table_names() method is deprecated and will be removed in a future release.  Please refer to Inspector.get_table_names(). (deprecated since: 1.4)\n",
      "  print(engine.table_names())\n"
     ]
    }
   ],
   "source": [
    "# view the tables within the database\n",
    "print(engine.table_names())"
   ]
  },
  {
   "cell_type": "code",
   "execution_count": 11,
   "metadata": {},
   "outputs": [
    {
     "name": "stdout",
     "output_type": "stream",
     "text": [
      "['boro_census', 'hpd311calls', 'weather']\n"
     ]
    }
   ],
   "source": [
    "# the function table_names() is being phased out, the current method for doing so is below:\n",
    "# you must use inspector \n",
    "from sqlalchemy import inspect\n",
    "\n",
    "insp = inspect(engine)\n",
    "\n",
    "db_table_name = insp.get_table_names()\n",
    "\n",
    "print(db_table_name)\n"
   ]
  },
  {
   "cell_type": "code",
   "execution_count": 12,
   "metadata": {},
   "outputs": [],
   "source": [
    "# Load without SQL \n",
    "hpd_calls = pd.read_sql(\"hpd311calls\", engine)"
   ]
  },
  {
   "cell_type": "code",
   "execution_count": 13,
   "metadata": {},
   "outputs": [
    {
     "name": "stdout",
     "output_type": "stream",
     "text": [
      "  unique_key created_date agency  complaint_type incident_zip  \\\n",
      "0   38070822   01/01/2018    HPD  HEAT/HOT WATER        10468   \n",
      "1   38065299   01/01/2018    HPD        PLUMBING        10003   \n",
      "2   38066653   01/01/2018    HPD  HEAT/HOT WATER        10452   \n",
      "3   38070264   01/01/2018    HPD  HEAT/HOT WATER        10032   \n",
      "4   38072466   01/01/2018    HPD  HEAT/HOT WATER        11213   \n",
      "\n",
      "       incident_address community_board    borough  \n",
      "0    2786 JEROME AVENUE        07 BRONX      BRONX  \n",
      "1  323 EAST   12 STREET    03 MANHATTAN  MANHATTAN  \n",
      "2  1235 GRAND CONCOURSE        04 BRONX      BRONX  \n",
      "3  656 WEST  171 STREET    12 MANHATTAN  MANHATTAN  \n",
      "4       1030 PARK PLACE     08 BROOKLYN   BROOKLYN  \n"
     ]
    }
   ],
   "source": [
    "# View the first few rows of data\n",
    "print(hpd_calls.head())"
   ]
  },
  {
   "cell_type": "code",
   "execution_count": 14,
   "metadata": {},
   "outputs": [],
   "source": [
    "# now load the 2nd table \n",
    "\n",
    "# Create a SQL query to load the entire weather table\n",
    "query = \"\"\"SELECT * FROM weather;\"\"\"\n",
    "\n",
    "# Load weather with the SQL query\n",
    "weather_2 = pd.read_sql(query, engine)"
   ]
  },
  {
   "cell_type": "code",
   "execution_count": 15,
   "metadata": {},
   "outputs": [
    {
     "name": "stdout",
     "output_type": "stream",
     "text": [
      "       station                         name  latitude  longitude  elevation  \\\n",
      "0  USW00094728  NY CITY CENTRAL PARK, NY US  40.77898  -73.96925       42.7   \n",
      "1  USW00094728  NY CITY CENTRAL PARK, NY US  40.77898  -73.96925       42.7   \n",
      "2  USW00094728  NY CITY CENTRAL PARK, NY US  40.77898  -73.96925       42.7   \n",
      "3  USW00094728  NY CITY CENTRAL PARK, NY US  40.77898  -73.96925       42.7   \n",
      "4  USW00094728  NY CITY CENTRAL PARK, NY US  40.77898  -73.96925       42.7   \n",
      "\n",
      "         date     month  awnd  prcp  snow tavg  tmax  tmin  \n",
      "0  12/01/2017  December  5.37  0.00   0.0         52    42  \n",
      "1  12/02/2017  December  3.13  0.00   0.0         48    39  \n",
      "2  12/03/2017  December  2.01  0.00   0.0         48    42  \n",
      "3  12/04/2017  December  3.58  0.00   0.0         51    40  \n",
      "4  12/05/2017  December  6.71  0.75   0.0         61    50  \n"
     ]
    }
   ],
   "source": [
    "# View the first few rows of data\n",
    "print(weather_2.head())"
   ]
  },
  {
   "cell_type": "code",
   "execution_count": 16,
   "metadata": {},
   "outputs": [],
   "source": [
    "# querying the database\n",
    "nyc_query = \"\"\" SELECT * FROM hpd311calls WHERE borough = 'BROOKLYN'; \"\"\" # dont forget to execute your clause with semicolon  "
   ]
  },
  {
   "cell_type": "code",
   "execution_count": 17,
   "metadata": {},
   "outputs": [],
   "source": [
    "# create a execute variable \n",
    "bklyn_calls = pd.read_sql(nyc_query, engine)"
   ]
  },
  {
   "cell_type": "code",
   "execution_count": 18,
   "metadata": {},
   "outputs": [
    {
     "name": "stdout",
     "output_type": "stream",
     "text": [
      "['BROOKLYN']\n"
     ]
    }
   ],
   "source": [
    "print(bklyn_calls.borough.unique()) # print unique vals"
   ]
  },
  {
   "cell_type": "code",
   "execution_count": 19,
   "metadata": {},
   "outputs": [],
   "source": [
    "# additional conditions to the query \n",
    "and_query = \"\"\" SELECT * FROM hpd311calls WHERE borough = 'BRONX' AND complaint_type = 'PLUMBING'; \"\"\""
   ]
  },
  {
   "cell_type": "code",
   "execution_count": 20,
   "metadata": {},
   "outputs": [],
   "source": [
    "bx_plumbing_calls = pd.read_sql(and_query, engine)"
   ]
  },
  {
   "cell_type": "code",
   "execution_count": 21,
   "metadata": {},
   "outputs": [
    {
     "name": "stdout",
     "output_type": "stream",
     "text": [
      "(2016, 8)\n"
     ]
    }
   ],
   "source": [
    "# print the record count \n",
    "print(bx_plumbing_calls.shape)"
   ]
  },
  {
   "cell_type": "code",
   "execution_count": 22,
   "metadata": {},
   "outputs": [],
   "source": [
    "# REMINDER AND is when all criteria are met and OR is when one is met \n",
    "or_query = \"\"\" SELECT * FROM hpd311calls WHERE  complaint_type = 'PLUMBING'AND complaint_type = 'WATER LEAK'; \"\"\""
   ]
  },
  {
   "cell_type": "code",
   "execution_count": 23,
   "metadata": {},
   "outputs": [],
   "source": [
    "# new query var\n",
    "leaks_or_plumbing = pd.read_sql(or_query,engine)"
   ]
  },
  {
   "cell_type": "code",
   "execution_count": 24,
   "metadata": {},
   "outputs": [
    {
     "name": "stdout",
     "output_type": "stream",
     "text": [
      "(0, 8)\n"
     ]
    }
   ],
   "source": [
    "# recheck record count \n",
    "print(leaks_or_plumbing.shape)"
   ]
  },
  {
   "cell_type": "code",
   "execution_count": 25,
   "metadata": {},
   "outputs": [
    {
     "name": "stdout",
     "output_type": "stream",
     "text": [
      "        station                         name  latitude  longitude  elevation  \\\n",
      "0   USW00094728  NY CITY CENTRAL PARK, NY US  40.77898  -73.96925       42.7   \n",
      "1   USW00094728  NY CITY CENTRAL PARK, NY US  40.77898  -73.96925       42.7   \n",
      "2   USW00094728  NY CITY CENTRAL PARK, NY US  40.77898  -73.96925       42.7   \n",
      "3   USW00094728  NY CITY CENTRAL PARK, NY US  40.77898  -73.96925       42.7   \n",
      "4   USW00094728  NY CITY CENTRAL PARK, NY US  40.77898  -73.96925       42.7   \n",
      "5   USW00094728  NY CITY CENTRAL PARK, NY US  40.77898  -73.96925       42.7   \n",
      "6   USW00094728  NY CITY CENTRAL PARK, NY US  40.77898  -73.96925       42.7   \n",
      "7   USW00094728  NY CITY CENTRAL PARK, NY US  40.77898  -73.96925       42.7   \n",
      "8   USW00094728  NY CITY CENTRAL PARK, NY US  40.77898  -73.96925       42.7   \n",
      "9   USW00094728  NY CITY CENTRAL PARK, NY US  40.77898  -73.96925       42.7   \n",
      "10  USW00094728  NY CITY CENTRAL PARK, NY US  40.77898  -73.96925       42.7   \n",
      "11  USW00094728  NY CITY CENTRAL PARK, NY US  40.77898  -73.96925       42.7   \n",
      "\n",
      "          date     month  awnd  prcp  snow tavg  tmax  tmin  \n",
      "0   12/01/2017  December  5.37  0.00   0.0         52    42  \n",
      "1   12/02/2017  December  3.13  0.00   0.0         48    39  \n",
      "2   12/03/2017  December  2.01  0.00   0.0         48    42  \n",
      "3   12/04/2017  December  3.58  0.00   0.0         51    40  \n",
      "4   12/05/2017  December  6.71  0.75   0.0         61    50  \n",
      "5   12/06/2017  December  7.61  0.00   0.0         59    40  \n",
      "6   12/07/2017  December  6.71  0.00   0.0         44    37  \n",
      "7   12/08/2017  December  4.92  0.00   0.0         39    34  \n",
      "8   12/09/2017  December  4.25  0.46   4.6         35    30  \n",
      "9   12/10/2017  December  6.49  0.00   0.0         39    29  \n",
      "10  12/11/2017  December  5.37  0.00   0.0         41    33  \n",
      "11  12/12/2017  December  7.38  0.00   0.0         50    29  \n"
     ]
    }
   ],
   "source": [
    "# lets reexplore the weater dataset, first dozen results\n",
    "print(weather.head(12))"
   ]
  },
  {
   "cell_type": "code",
   "execution_count": 26,
   "metadata": {},
   "outputs": [],
   "source": [
    "weather_query = \"\"\"SELECT date, tmax, tmin FROM weather;\"\"\""
   ]
  },
  {
   "cell_type": "code",
   "execution_count": 27,
   "metadata": {},
   "outputs": [],
   "source": [
    "# Make a dataframe by passing query and engine to read_sql()\n",
    "temperatures = pd.read_sql(weather_query,engine)"
   ]
  },
  {
   "cell_type": "code",
   "execution_count": 28,
   "metadata": {},
   "outputs": [
    {
     "name": "stdout",
     "output_type": "stream",
     "text": [
      "           date  tmax  tmin\n",
      "0    12/01/2017    52    42\n",
      "1    12/02/2017    48    39\n",
      "2    12/03/2017    48    42\n",
      "3    12/04/2017    51    40\n",
      "4    12/05/2017    61    50\n",
      "..          ...   ...   ...\n",
      "116  03/27/2018    47    34\n",
      "117  03/28/2018    52    38\n",
      "118  03/29/2018    53    49\n",
      "119  03/30/2018    62    44\n",
      "120  03/31/2018    58    39\n",
      "\n",
      "[121 rows x 3 columns]\n"
     ]
    }
   ],
   "source": [
    "# View the resulting dataframe\n",
    "print(temperatures)"
   ]
  },
  {
   "cell_type": "code",
   "execution_count": 29,
   "metadata": {},
   "outputs": [
    {
     "data": {
      "text/html": [
       "<div>\n",
       "<style scoped>\n",
       "    .dataframe tbody tr th:only-of-type {\n",
       "        vertical-align: middle;\n",
       "    }\n",
       "\n",
       "    .dataframe tbody tr th {\n",
       "        vertical-align: top;\n",
       "    }\n",
       "\n",
       "    .dataframe thead th {\n",
       "        text-align: right;\n",
       "    }\n",
       "</style>\n",
       "<table border=\"1\" class=\"dataframe\">\n",
       "  <thead>\n",
       "    <tr style=\"text-align: right;\">\n",
       "      <th></th>\n",
       "      <th>tmax</th>\n",
       "      <th>tmin</th>\n",
       "    </tr>\n",
       "  </thead>\n",
       "  <tbody>\n",
       "    <tr>\n",
       "      <th>count</th>\n",
       "      <td>121.000000</td>\n",
       "      <td>121.000000</td>\n",
       "    </tr>\n",
       "    <tr>\n",
       "      <th>mean</th>\n",
       "      <td>43.504132</td>\n",
       "      <td>30.702479</td>\n",
       "    </tr>\n",
       "    <tr>\n",
       "      <th>std</th>\n",
       "      <td>11.658419</td>\n",
       "      <td>10.050410</td>\n",
       "    </tr>\n",
       "    <tr>\n",
       "      <th>min</th>\n",
       "      <td>13.000000</td>\n",
       "      <td>5.000000</td>\n",
       "    </tr>\n",
       "    <tr>\n",
       "      <th>25%</th>\n",
       "      <td>38.000000</td>\n",
       "      <td>25.000000</td>\n",
       "    </tr>\n",
       "    <tr>\n",
       "      <th>50%</th>\n",
       "      <td>44.000000</td>\n",
       "      <td>32.000000</td>\n",
       "    </tr>\n",
       "    <tr>\n",
       "      <th>75%</th>\n",
       "      <td>51.000000</td>\n",
       "      <td>37.000000</td>\n",
       "    </tr>\n",
       "    <tr>\n",
       "      <th>max</th>\n",
       "      <td>78.000000</td>\n",
       "      <td>55.000000</td>\n",
       "    </tr>\n",
       "  </tbody>\n",
       "</table>\n",
       "</div>"
      ],
      "text/plain": [
       "             tmax        tmin\n",
       "count  121.000000  121.000000\n",
       "mean    43.504132   30.702479\n",
       "std     11.658419   10.050410\n",
       "min     13.000000    5.000000\n",
       "25%     38.000000   25.000000\n",
       "50%     44.000000   32.000000\n",
       "75%     51.000000   37.000000\n",
       "max     78.000000   55.000000"
      ]
     },
     "execution_count": 29,
     "metadata": {},
     "output_type": "execute_result"
    }
   ],
   "source": [
    "# tmin = temp minimum and tmax = temp maximum\n",
    "temperatures.describe()"
   ]
  },
  {
   "cell_type": "code",
   "execution_count": 30,
   "metadata": {},
   "outputs": [],
   "source": [
    "# lets reexplore safety data in NYC"
   ]
  },
  {
   "cell_type": "code",
   "execution_count": 31,
   "metadata": {},
   "outputs": [],
   "source": [
    "nyc_safety_query = \"\"\"SELECT * FROM hpd311calls WHERE complaint_type = 'SAFETY';\"\"\""
   ]
  },
  {
   "cell_type": "code",
   "execution_count": 32,
   "metadata": {},
   "outputs": [],
   "source": [
    "# Query the database and assign result to safety_calls\n",
    "safety_calls = pd.read_sql(nyc_safety_query,engine)"
   ]
  },
  {
   "cell_type": "code",
   "execution_count": 33,
   "metadata": {},
   "outputs": [],
   "source": [
    "# to visualize our data, need the matplotlib\n",
    "from matplotlib import pyplot as plt"
   ]
  },
  {
   "cell_type": "code",
   "execution_count": 34,
   "metadata": {},
   "outputs": [
    {
     "data": {
      "text/plain": [
       "<AxesSubplot:ylabel='borough'>"
      ]
     },
     "execution_count": 34,
     "metadata": {},
     "output_type": "execute_result"
    },
    {
     "data": {
      "image/png": "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",
      "text/plain": [
       "<Figure size 432x288 with 1 Axes>"
      ]
     },
     "metadata": {
      "needs_background": "light"
     },
     "output_type": "display_data"
    }
   ],
   "source": [
    "# Graph the number of safety calls by borough\n",
    "call_counts = safety_calls.groupby('borough').unique_key.count()\n",
    "call_counts.plot.barh()"
   ]
  },
  {
   "cell_type": "code",
   "execution_count": 35,
   "metadata": {},
   "outputs": [],
   "source": [
    "# Create query for records with max temps <= 32 or snow >= 1\n",
    "snow_query = \"\"\"SELECT * FROM weather WHERE tmax <= 32 OR  snow >= 1;\"\"\""
   ]
  },
  {
   "cell_type": "code",
   "execution_count": 36,
   "metadata": {},
   "outputs": [],
   "source": [
    "# Query database and assign result to wintry_days\n",
    "wintry_days = pd.read_sql(query, engine)"
   ]
  },
  {
   "cell_type": "code",
   "execution_count": 37,
   "metadata": {},
   "outputs": [
    {
     "name": "stdout",
     "output_type": "stream",
     "text": [
      "           latitude     longitude  elevation        awnd        prcp  \\\n",
      "count  1.210000e+02  1.210000e+02      121.0  121.000000  121.000000   \n",
      "mean   4.077898e+01 -7.396925e+01       42.7    6.507603    0.127190   \n",
      "std    7.134972e-15  1.426994e-14        0.0    2.296867    0.305746   \n",
      "min    4.077898e+01 -7.396925e+01       42.7    2.010000    0.000000   \n",
      "25%    4.077898e+01 -7.396925e+01       42.7    4.920000    0.000000   \n",
      "50%    4.077898e+01 -7.396925e+01       42.7    6.260000    0.000000   \n",
      "75%    4.077898e+01 -7.396925e+01       42.7    7.830000    0.060000   \n",
      "max    4.077898e+01 -7.396925e+01       42.7   12.970000    1.860000   \n",
      "\n",
      "             snow        tmax        tmin  \n",
      "count  121.000000  121.000000  121.000000  \n",
      "mean     0.292562   43.504132   30.702479  \n",
      "std      1.317584   11.658419   10.050410  \n",
      "min      0.000000   13.000000    5.000000  \n",
      "25%      0.000000   38.000000   25.000000  \n",
      "50%      0.000000   44.000000   32.000000  \n",
      "75%      0.000000   51.000000   37.000000  \n",
      "max      9.800000   78.000000   55.000000  \n"
     ]
    }
   ],
   "source": [
    "# View summary stats about the temperatures\n",
    "print(wintry_days.describe())"
   ]
  },
  {
   "cell_type": "code",
   "execution_count": 38,
   "metadata": {},
   "outputs": [],
   "source": [
    "# the alternative method for database ingestion \n",
    "\n",
    "import sqlite3"
   ]
  },
  {
   "cell_type": "code",
   "execution_count": 39,
   "metadata": {},
   "outputs": [],
   "source": [
    "connection = sqlite3.connect(db_file)"
   ]
  },
  {
   "cell_type": "code",
   "execution_count": 40,
   "metadata": {},
   "outputs": [],
   "source": [
    "# create cursor obj to communicate with db \n",
    "cursor = connection.cursor()"
   ]
  },
  {
   "cell_type": "code",
   "execution_count": 41,
   "metadata": {},
   "outputs": [
    {
     "data": {
      "text/plain": [
       "<sqlite3.Cursor at 0x1b3c4564500>"
      ]
     },
     "execution_count": 41,
     "metadata": {},
     "output_type": "execute_result"
    }
   ],
   "source": [
    "# execute query to find out info on the tables within the database\n",
    "cursor.execute(\"SELECT name FROM sqlite_master WHERE type='table';\")"
   ]
  },
  {
   "cell_type": "code",
   "execution_count": 42,
   "metadata": {},
   "outputs": [],
   "source": [
    "# retrieve all the table names from the SQLite database \n",
    "tables= cursor.fetchall()"
   ]
  },
  {
   "cell_type": "code",
   "execution_count": 43,
   "metadata": {},
   "outputs": [
    {
     "name": "stdout",
     "output_type": "stream",
     "text": [
      "hpd311calls\n",
      "weather\n",
      "boro_census\n"
     ]
    }
   ],
   "source": [
    "# loop thru the names \n",
    "for table in tables:\n",
    "    print(table[0])"
   ]
  },
  {
   "cell_type": "code",
   "execution_count": 44,
   "metadata": {},
   "outputs": [
    {
     "data": {
      "text/plain": [
       "<sqlite3.Cursor at 0x1b3c4564500>"
      ]
     },
     "execution_count": 44,
     "metadata": {},
     "output_type": "execute_result"
    }
   ],
   "source": [
    "cursor.execute(\"SELECT * FROM hpd311calls;\")"
   ]
  },
  {
   "cell_type": "code",
   "execution_count": 45,
   "metadata": {},
   "outputs": [],
   "source": [
    "# the results of the SELECT ALL\n",
    "tables_2 = cursor.fetchall()"
   ]
  },
  {
   "cell_type": "code",
   "execution_count": 46,
   "metadata": {},
   "outputs": [
    {
     "data": {
      "text/plain": [
       "[('38070822',\n",
       "  '01/01/2018',\n",
       "  'HPD',\n",
       "  'HEAT/HOT WATER',\n",
       "  '10468',\n",
       "  '2786 JEROME AVENUE',\n",
       "  '07 BRONX',\n",
       "  'BRONX'),\n",
       " ('38065299',\n",
       "  '01/01/2018',\n",
       "  'HPD',\n",
       "  'PLUMBING',\n",
       "  '10003',\n",
       "  '323 EAST   12 STREET',\n",
       "  '03 MANHATTAN',\n",
       "  'MANHATTAN'),\n",
       " ('38066653',\n",
       "  '01/01/2018',\n",
       "  'HPD',\n",
       "  'HEAT/HOT WATER',\n",
       "  '10452',\n",
       "  '1235 GRAND CONCOURSE',\n",
       "  '04 BRONX',\n",
       "  'BRONX'),\n",
       
